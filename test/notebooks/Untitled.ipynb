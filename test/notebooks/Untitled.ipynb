{
 "cells": [
  {
   "cell_type": "code",
   "execution_count": 1,
   "id": "de8b8f4e",
   "metadata": {},
   "outputs": [
    {
     "name": "stdout",
     "output_type": "stream",
     "text": [
      "Collecting rplidar\n",
      "  Downloading rplidar-0.9.2.tar.gz (5.4 kB)\n",
      "  Preparing metadata (setup.py) ... \u001b[?25ldone\n",
      "\u001b[?25hRequirement already satisfied: pyserial in /usr/lib/python3/dist-packages (from rplidar) (3.4)\n",
      "Building wheels for collected packages: rplidar\n",
      "  Building wheel for rplidar (setup.py) ... \u001b[?25ldone\n",
      "\u001b[?25h  Created wheel for rplidar: filename=rplidar-0.9.2-py3-none-any.whl size=5411 sha256=10c2b8933d534e4dbfc9e15336fd173bc81854ca078cd3f884aff8a5b44d620b\n",
      "  Stored in directory: /root/.cache/pip/wheels/4f/0a/89/13ec773651e3a2a93f674cd51e6a4535ae8fc3966d4d234721\n",
      "Successfully built rplidar\n",
      "Installing collected packages: rplidar\n",
      "Successfully installed rplidar-0.9.2\n",
      "\u001b[33mWARNING: Running pip as the 'root' user can result in broken permissions and conflicting behaviour with the system package manager. It is recommended to use a virtual environment instead: https://pip.pypa.io/warnings/venv\u001b[0m\u001b[33m\n",
      "\u001b[0m"
     ]
    }
   ],
   "source": [
    "!pip3 install rplidar"
   ]
  },
  {
   "cell_type": "code",
   "execution_count": 2,
   "id": "20f796d8",
   "metadata": {
    "scrolled": true
   },
   "outputs": [],
   "source": [
    "import matplotlib.pyplot as plt\n",
    "from rplidar import RPLidar\n",
    "\n",
    "lidar = RPLidar('/dev/ttyUSB0')  # Adjust the serial port if needed\n"
   ]
  },
  {
   "cell_type": "code",
   "execution_count": 3,
   "id": "2d3e497e",
   "metadata": {},
   "outputs": [
    {
     "ename": "RPLidarException",
     "evalue": "Wrong body size",
     "output_type": "error",
     "traceback": [
      "\u001b[0;31m---------------------------------------------------------------------------\u001b[0m",
      "\u001b[0;31mRPLidarException\u001b[0m                          Traceback (most recent call last)",
      "Cell \u001b[0;32mIn[3], line 18\u001b[0m\n\u001b[1;32m     15\u001b[0m         plot_lidar_scan(scan)\n\u001b[1;32m     16\u001b[0m         \u001b[38;5;28;01mbreak\u001b[39;00m\n\u001b[0;32m---> 18\u001b[0m \u001b[43mget_lidar_scan\u001b[49m\u001b[43m(\u001b[49m\u001b[43mlidar\u001b[49m\u001b[43m)\u001b[49m\n",
      "Cell \u001b[0;32mIn[3], line 14\u001b[0m, in \u001b[0;36mget_lidar_scan\u001b[0;34m(lidar_device)\u001b[0m\n\u001b[1;32m     13\u001b[0m \u001b[38;5;28;01mdef\u001b[39;00m \u001b[38;5;21mget_lidar_scan\u001b[39m(lidar_device):\n\u001b[0;32m---> 14\u001b[0m     \u001b[38;5;28;01mfor\u001b[39;00m scan \u001b[38;5;129;01min\u001b[39;00m lidar_device\u001b[38;5;241m.\u001b[39miter_scans(max_buf_meas\u001b[38;5;241m=\u001b[39m\u001b[38;5;241m500\u001b[39m):\n\u001b[1;32m     15\u001b[0m         plot_lidar_scan(scan)\n\u001b[1;32m     16\u001b[0m         \u001b[38;5;28;01mbreak\u001b[39;00m\n",
      "File \u001b[0;32m/usr/local/lib/python3.8/dist-packages/rplidar.py:357\u001b[0m, in \u001b[0;36mRPLidar.iter_scans\u001b[0;34m(self, max_buf_meas, min_len)\u001b[0m\n\u001b[1;32m    355\u001b[0m scan \u001b[38;5;241m=\u001b[39m []\n\u001b[1;32m    356\u001b[0m iterator \u001b[38;5;241m=\u001b[39m \u001b[38;5;28mself\u001b[39m\u001b[38;5;241m.\u001b[39miter_measurments(max_buf_meas)\n\u001b[0;32m--> 357\u001b[0m \u001b[38;5;28;01mfor\u001b[39;00m new_scan, quality, angle, distance \u001b[38;5;129;01min\u001b[39;00m iterator:\n\u001b[1;32m    358\u001b[0m     \u001b[38;5;28;01mif\u001b[39;00m new_scan:\n\u001b[1;32m    359\u001b[0m         \u001b[38;5;28;01mif\u001b[39;00m \u001b[38;5;28mlen\u001b[39m(scan) \u001b[38;5;241m>\u001b[39m min_len:\n",
      "File \u001b[0;32m/usr/local/lib/python3.8/dist-packages/rplidar.py:323\u001b[0m, in \u001b[0;36mRPLidar.iter_measurments\u001b[0;34m(self, max_buf_meas)\u001b[0m\n\u001b[1;32m    321\u001b[0m     \u001b[38;5;28;01mraise\u001b[39;00m RPLidarException(\u001b[38;5;124m'\u001b[39m\u001b[38;5;124mWrong response data type\u001b[39m\u001b[38;5;124m'\u001b[39m)\n\u001b[1;32m    322\u001b[0m \u001b[38;5;28;01mwhile\u001b[39;00m \u001b[38;5;28;01mTrue\u001b[39;00m:\n\u001b[0;32m--> 323\u001b[0m     raw \u001b[38;5;241m=\u001b[39m \u001b[38;5;28;43mself\u001b[39;49m\u001b[38;5;241;43m.\u001b[39;49m\u001b[43m_read_response\u001b[49m\u001b[43m(\u001b[49m\u001b[43mdsize\u001b[49m\u001b[43m)\u001b[49m\n\u001b[1;32m    324\u001b[0m     \u001b[38;5;28mself\u001b[39m\u001b[38;5;241m.\u001b[39mlogger\u001b[38;5;241m.\u001b[39mdebug(\u001b[38;5;124m'\u001b[39m\u001b[38;5;124mRecieved scan response: \u001b[39m\u001b[38;5;132;01m%s\u001b[39;00m\u001b[38;5;124m'\u001b[39m \u001b[38;5;241m%\u001b[39m raw)\n\u001b[1;32m    325\u001b[0m     \u001b[38;5;28;01mif\u001b[39;00m max_buf_meas:\n",
      "File \u001b[0;32m/usr/local/lib/python3.8/dist-packages/rplidar.py:199\u001b[0m, in \u001b[0;36mRPLidar._read_response\u001b[0;34m(self, dsize)\u001b[0m\n\u001b[1;32m    197\u001b[0m \u001b[38;5;28mself\u001b[39m\u001b[38;5;241m.\u001b[39mlogger\u001b[38;5;241m.\u001b[39mdebug(\u001b[38;5;124m'\u001b[39m\u001b[38;5;124mRecieved data: \u001b[39m\u001b[38;5;132;01m%s\u001b[39;00m\u001b[38;5;124m'\u001b[39m, data)\n\u001b[1;32m    198\u001b[0m \u001b[38;5;28;01mif\u001b[39;00m \u001b[38;5;28mlen\u001b[39m(data) \u001b[38;5;241m!=\u001b[39m dsize:\n\u001b[0;32m--> 199\u001b[0m     \u001b[38;5;28;01mraise\u001b[39;00m RPLidarException(\u001b[38;5;124m'\u001b[39m\u001b[38;5;124mWrong body size\u001b[39m\u001b[38;5;124m'\u001b[39m)\n\u001b[1;32m    200\u001b[0m \u001b[38;5;28;01mreturn\u001b[39;00m data\n",
      "\u001b[0;31mRPLidarException\u001b[0m: Wrong body size"
     ]
    }
   ],
   "source": [
    "def plot_lidar_scan(scan_data):\n",
    "    angles = []\n",
    "    distances = []\n",
    "    \n",
    "    for item in scan_data:\n",
    "        angles.append(item[1])\n",
    "        distances.append(item[2])\n",
    "\n",
    "    plt.figure()\n",
    "    plt.polar(angles, distances)\n",
    "    plt.show()\n",
    "\n",
    "def get_lidar_scan(lidar_device):\n",
    "    for scan in lidar_device.iter_scans(max_buf_meas=500):\n",
    "        plot_lidar_scan(scan)\n",
    "        break\n",
    "\n",
    "get_lidar_scan(lidar)\n"
   ]
  },
  {
   "cell_type": "code",
   "execution_count": null,
   "id": "03801ccb",
   "metadata": {},
   "outputs": [],
   "source": [
    "import cv2\n",
    "import numpy as np\n",
    "from IPython.display import clear_output, Image, display\n",
    "\n",
    "def array_to_image(a, fmt='jpeg'):\n",
    "    f = io.BytesIO()\n",
    "    PIL.Image.fromarray(a).save(f, fmt)\n",
    "    return Image(data=f.getvalue())\n",
    "\n",
    "def display_frame(frame):\n",
    "    clear_output(wait=True)\n",
    "    display(array_to_image(cv2.cvtColor(frame, cv2.COLOR_BGR2RGB)))\n",
    "\n",
    "cap = cv2.VideoCapture(0)  # Adjust the camera index if needed\n"
   ]
  },
  {
   "cell_type": "code",
   "execution_count": null,
   "id": "ea6173b1",
   "metadata": {},
   "outputs": [],
   "source": [
    "ret, frame = cap.read()\n",
    "if ret:\n",
    "    display_frame(frame)\n",
    "else:\n",
    "    print(\"Failed to capture frame.\")\n"
   ]
  },
  {
   "cell_type": "code",
   "execution_count": null,
   "id": "caaa78f8",
   "metadata": {},
   "outputs": [],
   "source": [
    "lidar.stop()\n",
    "lidar.disconnect()\n",
    "cap.release()\n"
   ]
  },
  {
   "cell_type": "code",
   "execution_count": 5,
   "id": "a1f7d166",
   "metadata": {},
   "outputs": [],
   "source": [
    "import time\n",
    "\n",
    "lidar.stop_motor()\n",
    "time.sleep(2)\n",
    "lidar.start_motor()\n"
   ]
  },
  {
   "cell_type": "code",
   "execution_count": 8,
   "id": "7195e7c1",
   "metadata": {},
   "outputs": [
    {
     "ename": "RPLidarException",
     "evalue": "Incorrect descriptor starting bytes",
     "output_type": "error",
     "traceback": [
      "\u001b[0;31m---------------------------------------------------------------------------\u001b[0m",
      "\u001b[0;31mRPLidarException\u001b[0m                          Traceback (most recent call last)",
      "Cell \u001b[0;32mIn[8], line 1\u001b[0m\n\u001b[0;32m----> 1\u001b[0m \u001b[43mget_lidar_scan\u001b[49m\u001b[43m(\u001b[49m\u001b[43mlidar\u001b[49m\u001b[43m)\u001b[49m\n",
      "Cell \u001b[0;32mIn[3], line 14\u001b[0m, in \u001b[0;36mget_lidar_scan\u001b[0;34m(lidar_device)\u001b[0m\n\u001b[1;32m     13\u001b[0m \u001b[38;5;28;01mdef\u001b[39;00m \u001b[38;5;21mget_lidar_scan\u001b[39m(lidar_device):\n\u001b[0;32m---> 14\u001b[0m     \u001b[38;5;28;01mfor\u001b[39;00m scan \u001b[38;5;129;01min\u001b[39;00m lidar_device\u001b[38;5;241m.\u001b[39miter_scans(max_buf_meas\u001b[38;5;241m=\u001b[39m\u001b[38;5;241m500\u001b[39m):\n\u001b[1;32m     15\u001b[0m         plot_lidar_scan(scan)\n\u001b[1;32m     16\u001b[0m         \u001b[38;5;28;01mbreak\u001b[39;00m\n",
      "File \u001b[0;32m/usr/local/lib/python3.8/dist-packages/rplidar.py:357\u001b[0m, in \u001b[0;36mRPLidar.iter_scans\u001b[0;34m(self, max_buf_meas, min_len)\u001b[0m\n\u001b[1;32m    355\u001b[0m scan \u001b[38;5;241m=\u001b[39m []\n\u001b[1;32m    356\u001b[0m iterator \u001b[38;5;241m=\u001b[39m \u001b[38;5;28mself\u001b[39m\u001b[38;5;241m.\u001b[39miter_measurments(max_buf_meas)\n\u001b[0;32m--> 357\u001b[0m \u001b[38;5;28;01mfor\u001b[39;00m new_scan, quality, angle, distance \u001b[38;5;129;01min\u001b[39;00m iterator:\n\u001b[1;32m    358\u001b[0m     \u001b[38;5;28;01mif\u001b[39;00m new_scan:\n\u001b[1;32m    359\u001b[0m         \u001b[38;5;28;01mif\u001b[39;00m \u001b[38;5;28mlen\u001b[39m(scan) \u001b[38;5;241m>\u001b[39m min_len:\n",
      "File \u001b[0;32m/usr/local/lib/python3.8/dist-packages/rplidar.py:300\u001b[0m, in \u001b[0;36mRPLidar.iter_measurments\u001b[0;34m(self, max_buf_meas)\u001b[0m\n\u001b[1;32m    277\u001b[0m \u001b[38;5;250m\u001b[39m\u001b[38;5;124;03m'''Iterate over measurments. Note that consumer must be fast enough,\u001b[39;00m\n\u001b[1;32m    278\u001b[0m \u001b[38;5;124;03motherwise data will be accumulated inside buffer and consumer will get\u001b[39;00m\n\u001b[1;32m    279\u001b[0m \u001b[38;5;124;03mdata with increaing lag.\u001b[39;00m\n\u001b[0;32m   (...)\u001b[0m\n\u001b[1;32m    297\u001b[0m \u001b[38;5;124;03m    In millimeter unit. Set to 0 when measurment is invalid.\u001b[39;00m\n\u001b[1;32m    298\u001b[0m \u001b[38;5;124;03m'''\u001b[39;00m\n\u001b[1;32m    299\u001b[0m \u001b[38;5;28mself\u001b[39m\u001b[38;5;241m.\u001b[39mstart_motor()\n\u001b[0;32m--> 300\u001b[0m status, error_code \u001b[38;5;241m=\u001b[39m \u001b[38;5;28;43mself\u001b[39;49m\u001b[38;5;241;43m.\u001b[39;49m\u001b[43mget_health\u001b[49m\u001b[43m(\u001b[49m\u001b[43m)\u001b[49m\n\u001b[1;32m    301\u001b[0m \u001b[38;5;28mself\u001b[39m\u001b[38;5;241m.\u001b[39mlogger\u001b[38;5;241m.\u001b[39mdebug(\u001b[38;5;124m'\u001b[39m\u001b[38;5;124mHealth status: \u001b[39m\u001b[38;5;132;01m%s\u001b[39;00m\u001b[38;5;124m [\u001b[39m\u001b[38;5;132;01m%d\u001b[39;00m\u001b[38;5;124m]\u001b[39m\u001b[38;5;124m'\u001b[39m, status, error_code)\n\u001b[1;32m    302\u001b[0m \u001b[38;5;28;01mif\u001b[39;00m status \u001b[38;5;241m==\u001b[39m _HEALTH_STATUSES[\u001b[38;5;241m2\u001b[39m]:\n",
      "File \u001b[0;32m/usr/local/lib/python3.8/dist-packages/rplidar.py:245\u001b[0m, in \u001b[0;36mRPLidar.get_health\u001b[0;34m(self)\u001b[0m\n\u001b[1;32m    230\u001b[0m \u001b[38;5;250m\u001b[39m\u001b[38;5;124;03m'''Get device health state. When the core system detects some\u001b[39;00m\n\u001b[1;32m    231\u001b[0m \u001b[38;5;124;03mpotential risk that may cause hardware failure in the future,\u001b[39;00m\n\u001b[1;32m    232\u001b[0m \u001b[38;5;124;03mthe returned status value will be 'Warning'. But sensor can still work\u001b[39;00m\n\u001b[0;32m   (...)\u001b[0m\n\u001b[1;32m    242\u001b[0m \u001b[38;5;124;03m    The related error code that caused a warning/error.\u001b[39;00m\n\u001b[1;32m    243\u001b[0m \u001b[38;5;124;03m'''\u001b[39;00m\n\u001b[1;32m    244\u001b[0m \u001b[38;5;28mself\u001b[39m\u001b[38;5;241m.\u001b[39m_send_cmd(GET_HEALTH_BYTE)\n\u001b[0;32m--> 245\u001b[0m dsize, is_single, dtype \u001b[38;5;241m=\u001b[39m \u001b[38;5;28;43mself\u001b[39;49m\u001b[38;5;241;43m.\u001b[39;49m\u001b[43m_read_descriptor\u001b[49m\u001b[43m(\u001b[49m\u001b[43m)\u001b[49m\n\u001b[1;32m    246\u001b[0m \u001b[38;5;28;01mif\u001b[39;00m dsize \u001b[38;5;241m!=\u001b[39m HEALTH_LEN:\n\u001b[1;32m    247\u001b[0m     \u001b[38;5;28;01mraise\u001b[39;00m RPLidarException(\u001b[38;5;124m'\u001b[39m\u001b[38;5;124mWrong get_info reply length\u001b[39m\u001b[38;5;124m'\u001b[39m)\n",
      "File \u001b[0;32m/usr/local/lib/python3.8/dist-packages/rplidar.py:189\u001b[0m, in \u001b[0;36mRPLidar._read_descriptor\u001b[0;34m(self)\u001b[0m\n\u001b[1;32m    187\u001b[0m     \u001b[38;5;28;01mraise\u001b[39;00m RPLidarException(\u001b[38;5;124m'\u001b[39m\u001b[38;5;124mDescriptor length mismatch\u001b[39m\u001b[38;5;124m'\u001b[39m)\n\u001b[1;32m    188\u001b[0m \u001b[38;5;28;01melif\u001b[39;00m \u001b[38;5;129;01mnot\u001b[39;00m descriptor\u001b[38;5;241m.\u001b[39mstartswith(SYNC_BYTE \u001b[38;5;241m+\u001b[39m SYNC_BYTE2):\n\u001b[0;32m--> 189\u001b[0m     \u001b[38;5;28;01mraise\u001b[39;00m RPLidarException(\u001b[38;5;124m'\u001b[39m\u001b[38;5;124mIncorrect descriptor starting bytes\u001b[39m\u001b[38;5;124m'\u001b[39m)\n\u001b[1;32m    190\u001b[0m is_single \u001b[38;5;241m=\u001b[39m _b2i(descriptor[\u001b[38;5;241m-\u001b[39m\u001b[38;5;241m2\u001b[39m]) \u001b[38;5;241m==\u001b[39m \u001b[38;5;241m0\u001b[39m\n\u001b[1;32m    191\u001b[0m \u001b[38;5;28;01mreturn\u001b[39;00m _b2i(descriptor[\u001b[38;5;241m2\u001b[39m]), is_single, _b2i(descriptor[\u001b[38;5;241m-\u001b[39m\u001b[38;5;241m1\u001b[39m])\n",
      "\u001b[0;31mRPLidarException\u001b[0m: Incorrect descriptor starting bytes"
     ]
    }
   ],
   "source": [
    "get_lidar_scan(lidar)"
   ]
  },
  {
   "cell_type": "code",
   "execution_count": 7,
   "id": "39f5b596",
   "metadata": {},
   "outputs": [],
   "source": [
    "lidar = RPLidar('/dev/ttyUSB0', baudrate=115200)  # Adjust the baud rate if needed\n"
   ]
  },
  {
   "cell_type": "code",
   "execution_count": null,
   "id": "719b5bf9",
   "metadata": {},
   "outputs": [],
   "source": []
  }
 ],
 "metadata": {
  "kernelspec": {
   "display_name": "Python 3 (ipykernel)",
   "language": "python",
   "name": "python3"
  },
  "language_info": {
   "codemirror_mode": {
    "name": "ipython",
    "version": 3
   },
   "file_extension": ".py",
   "mimetype": "text/x-python",
   "name": "python",
   "nbconvert_exporter": "python",
   "pygments_lexer": "ipython3",
   "version": "3.8.10"
  }
 },
 "nbformat": 4,
 "nbformat_minor": 5
}
