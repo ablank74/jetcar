{
 "cells": [
  {
   "cell_type": "code",
   "execution_count": 8,
   "id": "08828680",
   "metadata": {
    "scrolled": false
   },
   "outputs": [
    {
     "name": "stdout",
     "output_type": "stream",
     "text": [
      "/usr/lib/python3/dist-packages/secretstorage/dhcrypto.py:15: CryptographyDeprecationWarning: Python 3.6 is no longer supported by the Python core team. Therefore, support for it is deprecated in cryptography. The next release of cryptography will remove support for Python 3.6.\n",
      "  from cryptography.utils import int_from_bytes\n",
      "\u001b[31mERROR: Could not find a version that satisfies the requirement rospy (from versions: none)\u001b[0m\n",
      "\u001b[31mERROR: No matching distribution found for rospy\u001b[0m\n"
     ]
    }
   ],
   "source": [
    "!pip3 install rospy\n",
    "\n"
   ]
  },
  {
   "cell_type": "code",
   "execution_count": 22,
   "id": "719b5bf9",
   "metadata": {},
   "outputs": [
    {
     "ename": "ModuleNotFoundError",
     "evalue": "No module named 'rospy'",
     "output_type": "error",
     "traceback": [
      "\u001b[0;31m---------------------------------------------------------------------------\u001b[0m",
      "\u001b[0;31mModuleNotFoundError\u001b[0m                       Traceback (most recent call last)",
      "\u001b[0;32m<ipython-input-22-03ca39d95f35>\u001b[0m in \u001b[0;36m<module>\u001b[0;34m\u001b[0m\n\u001b[0;32m----> 1\u001b[0;31m \u001b[0;32mimport\u001b[0m \u001b[0mrospy\u001b[0m\u001b[0;34m\u001b[0m\u001b[0;34m\u001b[0m\u001b[0m\n\u001b[0m\u001b[1;32m      2\u001b[0m \u001b[0;32mfrom\u001b[0m \u001b[0msensor_msgs\u001b[0m\u001b[0;34m.\u001b[0m\u001b[0mmsg\u001b[0m \u001b[0;32mimport\u001b[0m \u001b[0mLaserScan\u001b[0m\u001b[0;34m\u001b[0m\u001b[0;34m\u001b[0m\u001b[0m\n\u001b[1;32m      3\u001b[0m \u001b[0;34m\u001b[0m\u001b[0m\n\u001b[1;32m      4\u001b[0m \u001b[0;32mdef\u001b[0m \u001b[0mlidar_callback\u001b[0m\u001b[0;34m(\u001b[0m\u001b[0mscan_data\u001b[0m\u001b[0;34m)\u001b[0m\u001b[0;34m:\u001b[0m\u001b[0;34m\u001b[0m\u001b[0;34m\u001b[0m\u001b[0m\n\u001b[1;32m      5\u001b[0m     \u001b[0;31m# Process the LiDAR data here\u001b[0m\u001b[0;34m\u001b[0m\u001b[0;34m\u001b[0m\u001b[0;34m\u001b[0m\u001b[0m\n",
      "\u001b[0;31mModuleNotFoundError\u001b[0m: No module named 'rospy'"
     ]
    }
   ],
   "source": [
    "import rospy\n",
    "from sensor_msgs.msg import LaserScan\n",
    "\n",
    "def lidar_callback(scan_data):\n",
    "    # Process the LiDAR data here\n",
    "    print(\"Received LiDAR data\")\n",
    "\n",
    "rospy.init_node('lidar_data_listener', anonymous=True)\n",
    "rospy.Subscriber('/scan', LaserScan, lidar_callback)\n",
    "\n",
    "rospy.spin()\n"
   ]
  },
  {
   "cell_type": "code",
   "execution_count": 33,
   "id": "c8bfd6b0",
   "metadata": {},
   "outputs": [
    {
     "name": "stdout",
     "output_type": "stream",
     "text": [
      "{'model': 24, 'firmware': (1, 29), 'hardware': 7, 'serialnumber': '6A8EEDF9C7E29BCEA7E39EF2FA5D4304'}\n",
      "('Good', 0)\n"
     ]
    },
    {
     "ename": "RPLidarException",
     "evalue": "Wrong body size",
     "output_type": "error",
     "traceback": [
      "\u001b[0;31m---------------------------------------------------------------------------\u001b[0m",
      "\u001b[0;31mRPLidarException\u001b[0m                          Traceback (most recent call last)",
      "\u001b[0;32m<ipython-input-33-2b16efe216de>\u001b[0m in \u001b[0;36m<module>\u001b[0;34m\u001b[0m\n\u001b[1;32m      9\u001b[0m \u001b[0mprint\u001b[0m\u001b[0;34m(\u001b[0m\u001b[0mhealth\u001b[0m\u001b[0;34m)\u001b[0m\u001b[0;34m\u001b[0m\u001b[0;34m\u001b[0m\u001b[0m\n\u001b[1;32m     10\u001b[0m \u001b[0;34m\u001b[0m\u001b[0m\n\u001b[0;32m---> 11\u001b[0;31m \u001b[0;32mfor\u001b[0m \u001b[0mi\u001b[0m\u001b[0;34m,\u001b[0m \u001b[0mscan\u001b[0m \u001b[0;32min\u001b[0m \u001b[0menumerate\u001b[0m\u001b[0;34m(\u001b[0m\u001b[0mlidar\u001b[0m\u001b[0;34m.\u001b[0m\u001b[0miter_scans\u001b[0m\u001b[0;34m(\u001b[0m\u001b[0;34m)\u001b[0m\u001b[0;34m)\u001b[0m\u001b[0;34m:\u001b[0m\u001b[0;34m\u001b[0m\u001b[0;34m\u001b[0m\u001b[0m\n\u001b[0m\u001b[1;32m     12\u001b[0m     \u001b[0mprint\u001b[0m\u001b[0;34m(\u001b[0m\u001b[0;34m'%d: Got %d measurments'\u001b[0m \u001b[0;34m%\u001b[0m \u001b[0;34m(\u001b[0m\u001b[0mi\u001b[0m\u001b[0;34m,\u001b[0m \u001b[0mlen\u001b[0m\u001b[0;34m(\u001b[0m\u001b[0mscan\u001b[0m\u001b[0;34m)\u001b[0m\u001b[0;34m)\u001b[0m\u001b[0;34m)\u001b[0m\u001b[0;34m\u001b[0m\u001b[0;34m\u001b[0m\u001b[0m\n\u001b[1;32m     13\u001b[0m     \u001b[0;32mif\u001b[0m \u001b[0mi\u001b[0m \u001b[0;34m>\u001b[0m \u001b[0;36m10\u001b[0m\u001b[0;34m:\u001b[0m\u001b[0;34m\u001b[0m\u001b[0;34m\u001b[0m\u001b[0m\n",
      "\u001b[0;32m/usr/local/lib/python3.6/dist-packages/rplidar.py\u001b[0m in \u001b[0;36miter_scans\u001b[0;34m(self, max_buf_meas, min_len)\u001b[0m\n\u001b[1;32m    355\u001b[0m         \u001b[0mscan\u001b[0m \u001b[0;34m=\u001b[0m \u001b[0;34m[\u001b[0m\u001b[0;34m]\u001b[0m\u001b[0;34m\u001b[0m\u001b[0;34m\u001b[0m\u001b[0m\n\u001b[1;32m    356\u001b[0m         \u001b[0miterator\u001b[0m \u001b[0;34m=\u001b[0m \u001b[0mself\u001b[0m\u001b[0;34m.\u001b[0m\u001b[0miter_measurments\u001b[0m\u001b[0;34m(\u001b[0m\u001b[0mmax_buf_meas\u001b[0m\u001b[0;34m)\u001b[0m\u001b[0;34m\u001b[0m\u001b[0;34m\u001b[0m\u001b[0m\n\u001b[0;32m--> 357\u001b[0;31m         \u001b[0;32mfor\u001b[0m \u001b[0mnew_scan\u001b[0m\u001b[0;34m,\u001b[0m \u001b[0mquality\u001b[0m\u001b[0;34m,\u001b[0m \u001b[0mangle\u001b[0m\u001b[0;34m,\u001b[0m \u001b[0mdistance\u001b[0m \u001b[0;32min\u001b[0m \u001b[0miterator\u001b[0m\u001b[0;34m:\u001b[0m\u001b[0;34m\u001b[0m\u001b[0;34m\u001b[0m\u001b[0m\n\u001b[0m\u001b[1;32m    358\u001b[0m             \u001b[0;32mif\u001b[0m \u001b[0mnew_scan\u001b[0m\u001b[0;34m:\u001b[0m\u001b[0;34m\u001b[0m\u001b[0;34m\u001b[0m\u001b[0m\n\u001b[1;32m    359\u001b[0m                 \u001b[0;32mif\u001b[0m \u001b[0mlen\u001b[0m\u001b[0;34m(\u001b[0m\u001b[0mscan\u001b[0m\u001b[0;34m)\u001b[0m \u001b[0;34m>\u001b[0m \u001b[0mmin_len\u001b[0m\u001b[0;34m:\u001b[0m\u001b[0;34m\u001b[0m\u001b[0;34m\u001b[0m\u001b[0m\n",
      "\u001b[0;32m/usr/local/lib/python3.6/dist-packages/rplidar.py\u001b[0m in \u001b[0;36miter_measurments\u001b[0;34m(self, max_buf_meas)\u001b[0m\n\u001b[1;32m    321\u001b[0m             \u001b[0;32mraise\u001b[0m \u001b[0mRPLidarException\u001b[0m\u001b[0;34m(\u001b[0m\u001b[0;34m'Wrong response data type'\u001b[0m\u001b[0;34m)\u001b[0m\u001b[0;34m\u001b[0m\u001b[0;34m\u001b[0m\u001b[0m\n\u001b[1;32m    322\u001b[0m         \u001b[0;32mwhile\u001b[0m \u001b[0;32mTrue\u001b[0m\u001b[0;34m:\u001b[0m\u001b[0;34m\u001b[0m\u001b[0;34m\u001b[0m\u001b[0m\n\u001b[0;32m--> 323\u001b[0;31m             \u001b[0mraw\u001b[0m \u001b[0;34m=\u001b[0m \u001b[0mself\u001b[0m\u001b[0;34m.\u001b[0m\u001b[0m_read_response\u001b[0m\u001b[0;34m(\u001b[0m\u001b[0mdsize\u001b[0m\u001b[0;34m)\u001b[0m\u001b[0;34m\u001b[0m\u001b[0;34m\u001b[0m\u001b[0m\n\u001b[0m\u001b[1;32m    324\u001b[0m             \u001b[0mself\u001b[0m\u001b[0;34m.\u001b[0m\u001b[0mlogger\u001b[0m\u001b[0;34m.\u001b[0m\u001b[0mdebug\u001b[0m\u001b[0;34m(\u001b[0m\u001b[0;34m'Recieved scan response: %s'\u001b[0m \u001b[0;34m%\u001b[0m \u001b[0mraw\u001b[0m\u001b[0;34m)\u001b[0m\u001b[0;34m\u001b[0m\u001b[0;34m\u001b[0m\u001b[0m\n\u001b[1;32m    325\u001b[0m             \u001b[0;32mif\u001b[0m \u001b[0mmax_buf_meas\u001b[0m\u001b[0;34m:\u001b[0m\u001b[0;34m\u001b[0m\u001b[0;34m\u001b[0m\u001b[0m\n",
      "\u001b[0;32m/usr/local/lib/python3.6/dist-packages/rplidar.py\u001b[0m in \u001b[0;36m_read_response\u001b[0;34m(self, dsize)\u001b[0m\n\u001b[1;32m    197\u001b[0m         \u001b[0mself\u001b[0m\u001b[0;34m.\u001b[0m\u001b[0mlogger\u001b[0m\u001b[0;34m.\u001b[0m\u001b[0mdebug\u001b[0m\u001b[0;34m(\u001b[0m\u001b[0;34m'Recieved data: %s'\u001b[0m\u001b[0;34m,\u001b[0m \u001b[0mdata\u001b[0m\u001b[0;34m)\u001b[0m\u001b[0;34m\u001b[0m\u001b[0;34m\u001b[0m\u001b[0m\n\u001b[1;32m    198\u001b[0m         \u001b[0;32mif\u001b[0m \u001b[0mlen\u001b[0m\u001b[0;34m(\u001b[0m\u001b[0mdata\u001b[0m\u001b[0;34m)\u001b[0m \u001b[0;34m!=\u001b[0m \u001b[0mdsize\u001b[0m\u001b[0;34m:\u001b[0m\u001b[0;34m\u001b[0m\u001b[0;34m\u001b[0m\u001b[0m\n\u001b[0;32m--> 199\u001b[0;31m             \u001b[0;32mraise\u001b[0m \u001b[0mRPLidarException\u001b[0m\u001b[0;34m(\u001b[0m\u001b[0;34m'Wrong body size'\u001b[0m\u001b[0;34m)\u001b[0m\u001b[0;34m\u001b[0m\u001b[0;34m\u001b[0m\u001b[0m\n\u001b[0m\u001b[1;32m    200\u001b[0m         \u001b[0;32mreturn\u001b[0m \u001b[0mdata\u001b[0m\u001b[0;34m\u001b[0m\u001b[0;34m\u001b[0m\u001b[0m\n\u001b[1;32m    201\u001b[0m \u001b[0;34m\u001b[0m\u001b[0m\n",
      "\u001b[0;31mRPLidarException\u001b[0m: Wrong body size"
     ]
    }
   ],
   "source": [
    "from rplidar import RPLidar\n",
    "lidar = RPLidar('/dev/ttyUSB0')\n",
    "\n",
    "lidar.connect()\n",
    "info = lidar.get_info()\n",
    "print(info)\n",
    "\n",
    "health = lidar.get_health()\n",
    "print(health)\n",
    "\n",
    "for i, scan in enumerate(lidar.iter_scans()):\n",
    "    print('%d: Got %d measurments' % (i, len(scan)))\n",
    "    if i > 10:\n",
    "        break\n",
    "\n",
    "lidar.stop()\n",
    "lidar.stop_motor()\n",
    "lidar.disconnect()"
   ]
  },
  {
   "cell_type": "code",
   "execution_count": 32,
   "id": "a62fec74",
   "metadata": {},
   "outputs": [],
   "source": [
    "lidar.reset()"
   ]
  },
  {
   "cell_type": "code",
   "execution_count": 2,
   "id": "999214bd",
   "metadata": {},
   "outputs": [
    {
     "name": "stdout",
     "output_type": "stream",
     "text": [
      "Collecting pyrplidar\n",
      "  Downloading pyrplidar-0.1.2.tar.gz (12 kB)\n",
      "  Preparing metadata (setup.py) ... \u001b[?25ldone\n",
      "\u001b[?25hRequirement already satisfied: pyserial in /usr/local/lib/python3.6/dist-packages (from pyrplidar) (3.5)\n",
      "Building wheels for collected packages: pyrplidar\n",
      "  Building wheel for pyrplidar (setup.py) ... \u001b[?25ldone\n",
      "\u001b[?25h  Created wheel for pyrplidar: filename=pyrplidar-0.1.2-py3-none-any.whl size=7372 sha256=766021e11775ac05714a408e3793b6f27211e9a5d6c57a1ba1ed3a7a10266737\n",
      "  Stored in directory: /root/.cache/pip/wheels/e3/31/5f/99875cde2be12981f24609ff22f6cc172a9615e92d1178aafa\n",
      "Successfully built pyrplidar\n",
      "Installing collected packages: pyrplidar\n",
      "Successfully installed pyrplidar-0.1.2\n",
      "\u001b[33mWARNING: Running pip as the 'root' user can result in broken permissions and conflicting behaviour with the system package manager. It is recommended to use a virtual environment instead: https://pip.pypa.io/warnings/venv\u001b[0m\n"
     ]
    }
   ],
   "source": [
    "!pip3 install pyrplidar"
   ]
  },
  {
   "cell_type": "code",
   "execution_count": 20,
   "id": "2c4686d6",
   "metadata": {},
   "outputs": [
    {
     "name": "stdout",
     "output_type": "stream",
     "text": [
      "PyRPlidar Info : device is connected\n"
     ]
    },
    {
     "ename": "IndexError",
     "evalue": "index out of range",
     "output_type": "error",
     "traceback": [
      "\u001b[0;31m---------------------------------------------------------------------------\u001b[0m",
      "\u001b[0;31mIndexError\u001b[0m                                Traceback (most recent call last)",
      "\u001b[0;32m<ipython-input-20-a3ceef7d0bb3>\u001b[0m in \u001b[0;36m<module>\u001b[0;34m\u001b[0m\n\u001b[1;32m      8\u001b[0m \u001b[0;34m\u001b[0m\u001b[0m\n\u001b[1;32m      9\u001b[0m \u001b[0;34m\u001b[0m\u001b[0m\n\u001b[0;32m---> 10\u001b[0;31m \u001b[0minfo\u001b[0m \u001b[0;34m=\u001b[0m \u001b[0mlidar\u001b[0m\u001b[0;34m.\u001b[0m\u001b[0mget_info\u001b[0m\u001b[0;34m(\u001b[0m\u001b[0;34m)\u001b[0m\u001b[0;34m\u001b[0m\u001b[0;34m\u001b[0m\u001b[0m\n\u001b[0m\u001b[1;32m     11\u001b[0m \u001b[0mprint\u001b[0m\u001b[0;34m(\u001b[0m\u001b[0;34m\"info :\"\u001b[0m\u001b[0;34m,\u001b[0m \u001b[0minfo\u001b[0m\u001b[0;34m)\u001b[0m\u001b[0;34m\u001b[0m\u001b[0;34m\u001b[0m\u001b[0m\n\u001b[1;32m     12\u001b[0m \u001b[0;34m\u001b[0m\u001b[0m\n",
      "\u001b[0;32m/usr/local/lib/python3.6/dist-packages/pyrplidar.py\u001b[0m in \u001b[0;36mget_info\u001b[0;34m(self)\u001b[0m\n\u001b[1;32m     71\u001b[0m     \u001b[0;32mdef\u001b[0m \u001b[0mget_info\u001b[0m\u001b[0;34m(\u001b[0m\u001b[0mself\u001b[0m\u001b[0;34m)\u001b[0m\u001b[0;34m:\u001b[0m\u001b[0;34m\u001b[0m\u001b[0;34m\u001b[0m\u001b[0m\n\u001b[1;32m     72\u001b[0m         \u001b[0mself\u001b[0m\u001b[0;34m.\u001b[0m\u001b[0msend_command\u001b[0m\u001b[0;34m(\u001b[0m\u001b[0mRPLIDAR_CMD_GET_INFO\u001b[0m\u001b[0;34m)\u001b[0m\u001b[0;34m\u001b[0m\u001b[0;34m\u001b[0m\u001b[0m\n\u001b[0;32m---> 73\u001b[0;31m         \u001b[0mdiscriptor\u001b[0m \u001b[0;34m=\u001b[0m \u001b[0mself\u001b[0m\u001b[0;34m.\u001b[0m\u001b[0mreceive_discriptor\u001b[0m\u001b[0;34m(\u001b[0m\u001b[0;34m)\u001b[0m\u001b[0;34m\u001b[0m\u001b[0;34m\u001b[0m\u001b[0m\n\u001b[0m\u001b[1;32m     74\u001b[0m         \u001b[0mdata\u001b[0m \u001b[0;34m=\u001b[0m \u001b[0mself\u001b[0m\u001b[0;34m.\u001b[0m\u001b[0mreceive_data\u001b[0m\u001b[0;34m(\u001b[0m\u001b[0mdiscriptor\u001b[0m\u001b[0;34m)\u001b[0m\u001b[0;34m\u001b[0m\u001b[0;34m\u001b[0m\u001b[0m\n\u001b[1;32m     75\u001b[0m         \u001b[0;32mreturn\u001b[0m \u001b[0mPyRPlidarDeviceInfo\u001b[0m\u001b[0;34m(\u001b[0m\u001b[0mdata\u001b[0m\u001b[0;34m)\u001b[0m\u001b[0;34m\u001b[0m\u001b[0;34m\u001b[0m\u001b[0m\n",
      "\u001b[0;32m/usr/local/lib/python3.6/dist-packages/pyrplidar.py\u001b[0m in \u001b[0;36mreceive_discriptor\u001b[0;34m(self)\u001b[0m\n\u001b[1;32m     40\u001b[0m             \u001b[0;32mraise\u001b[0m \u001b[0mPyRPlidarConnectionError\u001b[0m\u001b[0;34m(\u001b[0m\u001b[0;34m\"PyRPlidar Error : device is not connected\"\u001b[0m\u001b[0;34m)\u001b[0m\u001b[0;34m\u001b[0m\u001b[0;34m\u001b[0m\u001b[0m\n\u001b[1;32m     41\u001b[0m \u001b[0;34m\u001b[0m\u001b[0m\n\u001b[0;32m---> 42\u001b[0;31m         \u001b[0mdiscriptor\u001b[0m \u001b[0;34m=\u001b[0m \u001b[0mPyRPlidarResponse\u001b[0m\u001b[0;34m(\u001b[0m\u001b[0mself\u001b[0m\u001b[0;34m.\u001b[0m\u001b[0mlidar_serial\u001b[0m\u001b[0;34m.\u001b[0m\u001b[0mreceive_data\u001b[0m\u001b[0;34m(\u001b[0m\u001b[0mRPLIDAR_DESCRIPTOR_LEN\u001b[0m\u001b[0;34m)\u001b[0m\u001b[0;34m)\u001b[0m\u001b[0;34m\u001b[0m\u001b[0;34m\u001b[0m\u001b[0m\n\u001b[0m\u001b[1;32m     43\u001b[0m \u001b[0;34m\u001b[0m\u001b[0m\n\u001b[1;32m     44\u001b[0m         \u001b[0;32mif\u001b[0m \u001b[0mdiscriptor\u001b[0m\u001b[0;34m.\u001b[0m\u001b[0msync_byte1\u001b[0m \u001b[0;34m!=\u001b[0m \u001b[0mRPLIDAR_SYNC_BYTE1\u001b[0m\u001b[0;34m[\u001b[0m\u001b[0;36m0\u001b[0m\u001b[0;34m]\u001b[0m \u001b[0;32mor\u001b[0m \u001b[0mdiscriptor\u001b[0m\u001b[0;34m.\u001b[0m\u001b[0msync_byte2\u001b[0m \u001b[0;34m!=\u001b[0m \u001b[0mRPLIDAR_SYNC_BYTE2\u001b[0m\u001b[0;34m[\u001b[0m\u001b[0;36m0\u001b[0m\u001b[0;34m]\u001b[0m\u001b[0;34m:\u001b[0m\u001b[0;34m\u001b[0m\u001b[0;34m\u001b[0m\u001b[0m\n",
      "\u001b[0;32m/usr/local/lib/python3.6/dist-packages/pyrplidar_protocol.py\u001b[0m in \u001b[0;36m__init__\u001b[0;34m(self, raw_bytes)\u001b[0m\n\u001b[1;32m    108\u001b[0m \u001b[0;34m\u001b[0m\u001b[0m\n\u001b[1;32m    109\u001b[0m     \u001b[0;32mdef\u001b[0m \u001b[0m__init__\u001b[0m\u001b[0;34m(\u001b[0m\u001b[0mself\u001b[0m\u001b[0;34m,\u001b[0m \u001b[0mraw_bytes\u001b[0m\u001b[0;34m)\u001b[0m\u001b[0;34m:\u001b[0m\u001b[0;34m\u001b[0m\u001b[0;34m\u001b[0m\u001b[0m\n\u001b[0;32m--> 110\u001b[0;31m         \u001b[0mself\u001b[0m\u001b[0;34m.\u001b[0m\u001b[0msync_byte1\u001b[0m \u001b[0;34m=\u001b[0m \u001b[0mraw_bytes\u001b[0m\u001b[0;34m[\u001b[0m\u001b[0;36m0\u001b[0m\u001b[0;34m]\u001b[0m\u001b[0;34m\u001b[0m\u001b[0;34m\u001b[0m\u001b[0m\n\u001b[0m\u001b[1;32m    111\u001b[0m         \u001b[0mself\u001b[0m\u001b[0;34m.\u001b[0m\u001b[0msync_byte2\u001b[0m \u001b[0;34m=\u001b[0m \u001b[0mraw_bytes\u001b[0m\u001b[0;34m[\u001b[0m\u001b[0;36m1\u001b[0m\u001b[0;34m]\u001b[0m\u001b[0;34m\u001b[0m\u001b[0;34m\u001b[0m\u001b[0m\n\u001b[1;32m    112\u001b[0m         \u001b[0msize_q30_length_type\u001b[0m \u001b[0;34m=\u001b[0m \u001b[0mstruct\u001b[0m\u001b[0;34m.\u001b[0m\u001b[0munpack\u001b[0m\u001b[0;34m(\u001b[0m\u001b[0;34m\"<L\"\u001b[0m\u001b[0;34m,\u001b[0m \u001b[0mraw_bytes\u001b[0m\u001b[0;34m[\u001b[0m\u001b[0;36m2\u001b[0m\u001b[0;34m:\u001b[0m\u001b[0;36m6\u001b[0m\u001b[0;34m]\u001b[0m\u001b[0;34m)\u001b[0m\u001b[0;34m[\u001b[0m\u001b[0;36m0\u001b[0m\u001b[0;34m]\u001b[0m\u001b[0;34m\u001b[0m\u001b[0;34m\u001b[0m\u001b[0m\n",
      "\u001b[0;31mIndexError\u001b[0m: index out of range"
     ]
    }
   ],
   "source": [
    "from pyrplidar import PyRPlidar\n",
    "\n",
    "lidar = PyRPlidar()\n",
    "lidar.connect(port=\"/dev/ttyUSB0\", baudrate=256000, timeout=3)\n",
    "# Linux   : \"/dev/ttyUSB0\"\n",
    "# MacOS   : \"/dev/cu.SLAB_USBtoUART\"\n",
    "# Windows : \"COM5\"\n",
    "\n",
    "\n",
    "info = lidar.get_info()\n",
    "print(\"info :\", info)\n",
    "\n",
    "health = lidar.get_health()\n",
    "print(\"health :\", health)\n",
    "\n",
    "samplerate = lidar.get_samplerate()\n",
    "print(\"samplerate :\", samplerate)\n",
    "\n",
    "\n",
    "scan_modes = lidar.get_scan_modes()\n",
    "print(\"scan modes :\")\n",
    "for scan_mode in scan_modes:\n",
    "    print(scan_mode)\n",
    "\n",
    "\n",
    "lidar.disconnect()"
   ]
  },
  {
   "cell_type": "code",
   "execution_count": 40,
   "id": "0ea30bea",
   "metadata": {},
   "outputs": [
    {
     "ename": "ModuleNotFoundError",
     "evalue": "No module named 'PyRPlidar'",
     "output_type": "error",
     "traceback": [
      "\u001b[0;31m---------------------------------------------------------------------------\u001b[0m",
      "\u001b[0;31mModuleNotFoundError\u001b[0m                       Traceback (most recent call last)",
      "\u001b[0;32m<ipython-input-40-cf5a4d54d0d9>\u001b[0m in \u001b[0;36m<module>\u001b[0;34m\u001b[0m\n\u001b[0;32m----> 1\u001b[0;31m \u001b[0;32mimport\u001b[0m \u001b[0mPyRPlidar\u001b[0m\u001b[0;34m\u001b[0m\u001b[0;34m\u001b[0m\u001b[0m\n\u001b[0m\u001b[1;32m      2\u001b[0m \u001b[0;34m\u001b[0m\u001b[0m\n\u001b[1;32m      3\u001b[0m \u001b[0mlidar\u001b[0m \u001b[0;34m=\u001b[0m \u001b[0mPyRPlidar\u001b[0m\u001b[0;34m.\u001b[0m\u001b[0mPyRPlidar\u001b[0m\u001b[0;34m(\u001b[0m\u001b[0;34m)\u001b[0m\u001b[0;34m\u001b[0m\u001b[0;34m\u001b[0m\u001b[0m\n\u001b[1;32m      4\u001b[0m \u001b[0mprint\u001b[0m\u001b[0;34m(\u001b[0m\u001b[0;34m\"PyRPlidar Info :\"\u001b[0m\u001b[0;34m,\u001b[0m \u001b[0mlidar\u001b[0m\u001b[0;34m.\u001b[0m\u001b[0mget_info\u001b[0m\u001b[0;34m(\u001b[0m\u001b[0;34m)\u001b[0m\u001b[0;34m)\u001b[0m\u001b[0;34m\u001b[0m\u001b[0;34m\u001b[0m\u001b[0m\n\u001b[1;32m      5\u001b[0m \u001b[0;34m\u001b[0m\u001b[0m\n",
      "\u001b[0;31mModuleNotFoundError\u001b[0m: No module named 'PyRPlidar'"
     ]
    }
   ],
   "source": [
    "import PyRPlidar\n",
    "\n",
    "lidar = PyRPlidar.PyRPlidar()\n",
    "print(\"PyRPlidar Info :\", lidar.get_info())\n",
    "\n",
    "try:\n",
    "    lidar.connect(port='/dev/ttyUSB0', baudrate=256000, timeout=3)\n",
    "    print(\"PyRPlidar Info :\", lidar.get_info())\n",
    "\n",
    "    lidar.start_motor()\n",
    "    lidar.start_scan()\n",
    "\n",
    "    for i in range(10):\n",
    "        print(\"Scanning...\")\n",
    "        data = lidar.start_scan_express('Standard')\n",
    "        for _, angle, distance in data:\n",
    "            print(f\"angle: {angle}, distance: {distance}\")\n",
    "finally:\n",
    "    lidar.stop_motor()\n",
    "    lidar.disconnect()\n"
   ]
  },
  {
   "cell_type": "code",
   "execution_count": 7,
   "id": "9bca9ffa",
   "metadata": {},
   "outputs": [
    {
     "name": "stdout",
     "output_type": "stream",
     "text": [
      "Help on module pyrplidar:\n",
      "\n",
      "NAME\n",
      "    pyrplidar\n",
      "\n",
      "CLASSES\n",
      "    builtins.object\n",
      "        PyRPlidar\n",
      "    \n",
      "    class PyRPlidar(builtins.object)\n",
      "     |  Methods defined here:\n",
      "     |  \n",
      "     |  __del__(self)\n",
      "     |  \n",
      "     |  __init__(self)\n",
      "     |      Initialize self.  See help(type(self)) for accurate signature.\n",
      "     |  \n",
      "     |  connect(self, port='/dev/ttyUSB0', baudrate=115200, timeout=3)\n",
      "     |  \n",
      "     |  disconnect(self)\n",
      "     |  \n",
      "     |  force_scan(self)\n",
      "     |  \n",
      "     |  get_health(self)\n",
      "     |  \n",
      "     |  get_info(self)\n",
      "     |  \n",
      "     |  get_lidar_conf(self, payload)\n",
      "     |  \n",
      "     |  get_samplerate(self)\n",
      "     |  \n",
      "     |  get_scan_mode_count(self)\n",
      "     |  \n",
      "     |  get_scan_mode_typical(self)\n",
      "     |  \n",
      "     |  get_scan_modes(self)\n",
      "     |  \n",
      "     |  receive_data(self, discriptor)\n",
      "     |  \n",
      "     |  receive_discriptor(self)\n",
      "     |  \n",
      "     |  reset(self)\n",
      "     |  \n",
      "     |  send_command(self, cmd, payload=None)\n",
      "     |  \n",
      "     |  set_motor_pwm(self, pwm)\n",
      "     |  \n",
      "     |  start_scan(self)\n",
      "     |  \n",
      "     |  start_scan_express(self, mode)\n",
      "     |  \n",
      "     |  stop(self)\n",
      "     |  \n",
      "     |  ----------------------------------------------------------------------\n",
      "     |  Data descriptors defined here:\n",
      "     |  \n",
      "     |  __dict__\n",
      "     |      dictionary for instance variables (if defined)\n",
      "     |  \n",
      "     |  __weakref__\n",
      "     |      list of weak references to the object (if defined)\n",
      "\n",
      "DATA\n",
      "    RPLIDAR_ANS_TYPE = {129: 'NORMAL', 130: 'CAPSULED', 131: 'HQ', 132: 'U...\n",
      "    RPLIDAR_CMD_EXPRESS_SCAN = b'\\x82'\n",
      "    RPLIDAR_CMD_FORCE_SCAN = b'!'\n",
      "    RPLIDAR_CMD_GET_ACC_BOARD_FLAG = b'\\xff'\n",
      "    RPLIDAR_CMD_GET_HEALTH = b'R'\n",
      "    RPLIDAR_CMD_GET_INFO = b'P'\n",
      "    RPLIDAR_CMD_GET_LIDAR_CONF = b'\\x84'\n",
      "    RPLIDAR_CMD_GET_SAMPLERATE = b'Y'\n",
      "    RPLIDAR_CMD_HQ_MOTOR_SPEED_CTRL = b'\\xa8'\n",
      "    RPLIDAR_CMD_RESET = b'@'\n",
      "    RPLIDAR_CMD_SCAN = b' '\n",
      "    RPLIDAR_CMD_SET_MOTOR_PWM = b'\\xf0'\n",
      "    RPLIDAR_CMD_STOP = b'%'\n",
      "    RPLIDAR_CONF_SCAN_MODE_ANS_TYPE = 117\n",
      "    RPLIDAR_CONF_SCAN_MODE_COUNT = 112\n",
      "    RPLIDAR_CONF_SCAN_MODE_MAX_DISTANCE = 116\n",
      "    RPLIDAR_CONF_SCAN_MODE_NAME = 127\n",
      "    RPLIDAR_CONF_SCAN_MODE_TYPICAL = 124\n",
      "    RPLIDAR_CONF_SCAN_MODE_US_PER_SAMPLE = 113\n",
      "    RPLIDAR_DEFAULT_MOTOR_PWM = 660\n",
      "    RPLIDAR_DESCRIPTOR_LEN = 7\n",
      "    RPLIDAR_MAX_MOTOR_PWM = 1023\n",
      "    RPLIDAR_SEND_MODE_MULTIPLE_RES = b'\\x01'\n",
      "    RPLIDAR_SEND_MODE_SINGLE_RES = b'\\x00'\n",
      "    RPLIDAR_STATUS = {0: 'GOOD', 1: 'WARNING', 2: 'ERROR'}\n",
      "    RPLIDAR_SYNC_BYTE1 = b'\\xa5'\n",
      "    RPLIDAR_SYNC_BYTE2 = b'Z'\n",
      "    RPLIDAR_VARBITSCALE_X16_DEST_VAL = 3328\n",
      "    RPLIDAR_VARBITSCALE_X16_SRC_BIT = 14\n",
      "    RPLIDAR_VARBITSCALE_X2_DEST_VAL = 512\n",
      "    RPLIDAR_VARBITSCALE_X2_SRC_BIT = 9\n",
      "    RPLIDAR_VARBITSCALE_X4_DEST_VAL = 1280\n",
      "    RPLIDAR_VARBITSCALE_X4_SRC_BIT = 11\n",
      "    RPLIDAR_VARBITSCALE_X8_DEST_VAL = 1792\n",
      "    RPLIDAR_VARBITSCALE_X8_SRC_BIT = 12\n",
      "    VBS_SCALED_BASE = [3328, 1792, 1280, 512, 0]\n",
      "    VBS_SCALED_LVL = [4, 3, 2, 1, 0]\n",
      "    VBS_TARGET_BASE = [16384, 4096, 2048, 512, 0]\n",
      "\n",
      "FILE\n",
      "    /usr/local/lib/python3.6/dist-packages/pyrplidar.py\n",
      "\n",
      "\n"
     ]
    }
   ],
   "source": [
    "import PyRPlidar\n",
    "\n",
    "lidar = PyRPlidar.PyRPlidar()\n",
    "print(\"PyRPlidar Info :\", lidar.get_info())\n",
    "\n",
    "try:\n",
    "    lidar.connect(port='/dev/ttyUSB0', baudrate=256000, timeout=3)\n",
    "    print(\"PyRPlidar Info :\", lidar.get_info())\n",
    "\n",
    "    lidar.start_motor()\n",
    "    lidar.start_scan()\n",
    "\n",
    "    for i in range(10):\n",
    "        print(\"Scanning...\")\n",
    "        data = lidar.start_scan_express('Standard')\n",
    "        for _, angle, distance in data:\n",
    "            print(f\"angle: {angle}, distance: {distance}\")\n",
    "finally:\n",
    "    lidar.stop_motor()\n",
    "    lidar.disconnect()\n",
    "\n"
   ]
  },
  {
   "cell_type": "code",
   "execution_count": 34,
   "id": "b2e7da74",
   "metadata": {},
   "outputs": [
    {
     "name": "stdout",
     "output_type": "stream",
     "text": [
      "Requirement already satisfied: pyrplidar in /usr/local/lib/python3.6/dist-packages (0.1.2)\n",
      "Requirement already satisfied: pyserial in /usr/local/lib/python3.6/dist-packages (from pyrplidar) (3.5)\n",
      "\u001b[33mWARNING: Running pip as the 'root' user can result in broken permissions and conflicting behaviour with the system package manager. It is recommended to use a virtual environment instead: https://pip.pypa.io/warnings/venv\u001b[0m\n"
     ]
    }
   ],
   "source": [
    "!pip3 install pyrplidar"
   ]
  },
  {
   "cell_type": "code",
   "execution_count": 51,
   "id": "2348426c",
   "metadata": {},
   "outputs": [
    {
     "name": "stdout",
     "output_type": "stream",
     "text": [
      "PyRPlidar Info : device is connected\n",
      "PyRPlidar Info : device is connected\n",
      "info : {'model': 24, 'firmware_minor': 29, 'firmware_major': 1, 'hardware': 7, 'serialnumber': '6A8EEDF9C7E29BCEA7E39EF2FA5D4304'}\n",
      "health : {'status': 0, 'error_code': 0}\n",
      "samplerate : {'t_standard': 508, 't_express': 254}\n",
      "{'name': 'Standard', 'max_distance': 3072, 'us_per_sample': 130048, 'ans_type': 'NORMAL'}\n",
      "{'name': 'Express', 'max_distance': 3072, 'us_per_sample': 65024, 'ans_type': 'CAPSULED'}\n",
      "{'name': 'Boost', 'max_distance': 3072, 'us_per_sample': 32512, 'ans_type': 'ULTRA_CAPSULED'}\n",
      "{'name': 'Sensitivity', 'max_distance': 3072, 'us_per_sample': 32512, 'ans_type': 'ULTRA_CAPSULED'}\n",
      "{'name': 'Stability', 'max_distance': 3072, 'us_per_sample': 51456, 'ans_type': 'ULTRA_CAPSULED'}\n",
      "scan modes :\n",
      "{'name': 'Standard', 'max_distance': 3072, 'us_per_sample': 130048, 'ans_type': 'NORMAL'}\n",
      "{'name': 'Express', 'max_distance': 3072, 'us_per_sample': 65024, 'ans_type': 'CAPSULED'}\n",
      "{'name': 'Boost', 'max_distance': 3072, 'us_per_sample': 32512, 'ans_type': 'ULTRA_CAPSULED'}\n",
      "{'name': 'Sensitivity', 'max_distance': 3072, 'us_per_sample': 32512, 'ans_type': 'ULTRA_CAPSULED'}\n",
      "{'name': 'Stability', 'max_distance': 3072, 'us_per_sample': 51456, 'ans_type': 'ULTRA_CAPSULED'}\n",
      "Scanning\n"
     ]
    },
    {
     "ename": "IndexError",
     "evalue": "index out of range",
     "output_type": "error",
     "traceback": [
      "\u001b[0;31m---------------------------------------------------------------------------\u001b[0m",
      "\u001b[0;31mIndexError\u001b[0m                                Traceback (most recent call last)",
      "\u001b[0;32m<ipython-input-51-6f848f4dfd05>\u001b[0m in \u001b[0;36m<module>\u001b[0;34m\u001b[0m\n\u001b[1;32m     27\u001b[0m \u001b[0mprint\u001b[0m\u001b[0;34m(\u001b[0m\u001b[0;34m\"Scanning\"\u001b[0m\u001b[0;34m)\u001b[0m\u001b[0;34m\u001b[0m\u001b[0;34m\u001b[0m\u001b[0m\n\u001b[1;32m     28\u001b[0m \u001b[0mscanData\u001b[0m \u001b[0;34m=\u001b[0m \u001b[0mlidar\u001b[0m\u001b[0;34m.\u001b[0m\u001b[0mstart_scan\u001b[0m\u001b[0;34m(\u001b[0m\u001b[0;34m)\u001b[0m\u001b[0;34m\u001b[0m\u001b[0;34m\u001b[0m\u001b[0m\n\u001b[0;32m---> 29\u001b[0;31m \u001b[0mdiscriptor\u001b[0m \u001b[0;34m=\u001b[0m \u001b[0mlidar\u001b[0m\u001b[0;34m.\u001b[0m\u001b[0mreceive_discriptor\u001b[0m\u001b[0;34m(\u001b[0m\u001b[0;34m)\u001b[0m\u001b[0;34m\u001b[0m\u001b[0;34m\u001b[0m\u001b[0m\n\u001b[0m\u001b[1;32m     30\u001b[0m \u001b[0mrecData\u001b[0m \u001b[0;34m=\u001b[0m \u001b[0mlidar\u001b[0m\u001b[0;34m.\u001b[0m\u001b[0mreceive_data\u001b[0m\u001b[0;34m(\u001b[0m\u001b[0mdiscriptor\u001b[0m\u001b[0;34m)\u001b[0m\u001b[0;34m\u001b[0m\u001b[0;34m\u001b[0m\u001b[0m\n\u001b[1;32m     31\u001b[0m \u001b[0mprint\u001b[0m\u001b[0;34m(\u001b[0m\u001b[0mscanData\u001b[0m\u001b[0;34m)\u001b[0m\u001b[0;34m\u001b[0m\u001b[0;34m\u001b[0m\u001b[0m\n",
      "\u001b[0;32m/usr/local/lib/python3.6/dist-packages/pyrplidar.py\u001b[0m in \u001b[0;36mreceive_discriptor\u001b[0;34m(self)\u001b[0m\n\u001b[1;32m     40\u001b[0m             \u001b[0;32mraise\u001b[0m \u001b[0mPyRPlidarConnectionError\u001b[0m\u001b[0;34m(\u001b[0m\u001b[0;34m\"PyRPlidar Error : device is not connected\"\u001b[0m\u001b[0;34m)\u001b[0m\u001b[0;34m\u001b[0m\u001b[0;34m\u001b[0m\u001b[0m\n\u001b[1;32m     41\u001b[0m \u001b[0;34m\u001b[0m\u001b[0m\n\u001b[0;32m---> 42\u001b[0;31m         \u001b[0mdiscriptor\u001b[0m \u001b[0;34m=\u001b[0m \u001b[0mPyRPlidarResponse\u001b[0m\u001b[0;34m(\u001b[0m\u001b[0mself\u001b[0m\u001b[0;34m.\u001b[0m\u001b[0mlidar_serial\u001b[0m\u001b[0;34m.\u001b[0m\u001b[0mreceive_data\u001b[0m\u001b[0;34m(\u001b[0m\u001b[0mRPLIDAR_DESCRIPTOR_LEN\u001b[0m\u001b[0;34m)\u001b[0m\u001b[0;34m)\u001b[0m\u001b[0;34m\u001b[0m\u001b[0;34m\u001b[0m\u001b[0m\n\u001b[0m\u001b[1;32m     43\u001b[0m \u001b[0;34m\u001b[0m\u001b[0m\n\u001b[1;32m     44\u001b[0m         \u001b[0;32mif\u001b[0m \u001b[0mdiscriptor\u001b[0m\u001b[0;34m.\u001b[0m\u001b[0msync_byte1\u001b[0m \u001b[0;34m!=\u001b[0m \u001b[0mRPLIDAR_SYNC_BYTE1\u001b[0m\u001b[0;34m[\u001b[0m\u001b[0;36m0\u001b[0m\u001b[0;34m]\u001b[0m \u001b[0;32mor\u001b[0m \u001b[0mdiscriptor\u001b[0m\u001b[0;34m.\u001b[0m\u001b[0msync_byte2\u001b[0m \u001b[0;34m!=\u001b[0m \u001b[0mRPLIDAR_SYNC_BYTE2\u001b[0m\u001b[0;34m[\u001b[0m\u001b[0;36m0\u001b[0m\u001b[0;34m]\u001b[0m\u001b[0;34m:\u001b[0m\u001b[0;34m\u001b[0m\u001b[0;34m\u001b[0m\u001b[0m\n",
      "\u001b[0;32m/usr/local/lib/python3.6/dist-packages/pyrplidar_protocol.py\u001b[0m in \u001b[0;36m__init__\u001b[0;34m(self, raw_bytes)\u001b[0m\n\u001b[1;32m    108\u001b[0m \u001b[0;34m\u001b[0m\u001b[0m\n\u001b[1;32m    109\u001b[0m     \u001b[0;32mdef\u001b[0m \u001b[0m__init__\u001b[0m\u001b[0;34m(\u001b[0m\u001b[0mself\u001b[0m\u001b[0;34m,\u001b[0m \u001b[0mraw_bytes\u001b[0m\u001b[0;34m)\u001b[0m\u001b[0;34m:\u001b[0m\u001b[0;34m\u001b[0m\u001b[0;34m\u001b[0m\u001b[0m\n\u001b[0;32m--> 110\u001b[0;31m         \u001b[0mself\u001b[0m\u001b[0;34m.\u001b[0m\u001b[0msync_byte1\u001b[0m \u001b[0;34m=\u001b[0m \u001b[0mraw_bytes\u001b[0m\u001b[0;34m[\u001b[0m\u001b[0;36m0\u001b[0m\u001b[0;34m]\u001b[0m\u001b[0;34m\u001b[0m\u001b[0;34m\u001b[0m\u001b[0m\n\u001b[0m\u001b[1;32m    111\u001b[0m         \u001b[0mself\u001b[0m\u001b[0;34m.\u001b[0m\u001b[0msync_byte2\u001b[0m \u001b[0;34m=\u001b[0m \u001b[0mraw_bytes\u001b[0m\u001b[0;34m[\u001b[0m\u001b[0;36m1\u001b[0m\u001b[0;34m]\u001b[0m\u001b[0;34m\u001b[0m\u001b[0;34m\u001b[0m\u001b[0m\n\u001b[1;32m    112\u001b[0m         \u001b[0msize_q30_length_type\u001b[0m \u001b[0;34m=\u001b[0m \u001b[0mstruct\u001b[0m\u001b[0;34m.\u001b[0m\u001b[0munpack\u001b[0m\u001b[0;34m(\u001b[0m\u001b[0;34m\"<L\"\u001b[0m\u001b[0;34m,\u001b[0m \u001b[0mraw_bytes\u001b[0m\u001b[0;34m[\u001b[0m\u001b[0;36m2\u001b[0m\u001b[0;34m:\u001b[0m\u001b[0;36m6\u001b[0m\u001b[0;34m]\u001b[0m\u001b[0;34m)\u001b[0m\u001b[0;34m[\u001b[0m\u001b[0;36m0\u001b[0m\u001b[0;34m]\u001b[0m\u001b[0;34m\u001b[0m\u001b[0;34m\u001b[0m\u001b[0m\n",
      "\u001b[0;31mIndexError\u001b[0m: index out of range"
     ]
    }
   ],
   "source": [
    "from pyrplidar import PyRPlidar\n",
    "\n",
    "lidar = PyRPlidar()\n",
    "lidar.connect(port=\"/dev/ttyUSB0\", baudrate=256000, timeout=3)\n",
    "# Linux   : \"/dev/ttyUSB0\"\n",
    "# MacOS   : \"/dev/cu.SLAB_USBtoUART\"\n",
    "# Windows : \"COM5\"\n",
    "\n",
    "lidar.connect()\n",
    "\n",
    "info = lidar.get_info()\n",
    "print(\"info :\", info)\n",
    "\n",
    "health = lidar.get_health()\n",
    "print(\"health :\", health)\n",
    "\n",
    "samplerate = lidar.get_samplerate()\n",
    "print(\"samplerate :\", samplerate)\n",
    "\n",
    "\n",
    "scan_modes = lidar.get_scan_modes()\n",
    "print(\"scan modes :\")\n",
    "for scan_mode in scan_modes:\n",
    "    print(scan_mode)\n",
    "\n",
    "\n",
    "print(\"Scanning\")\n",
    "scanData = lidar.start_scan()\n",
    "discriptor = lidar.receive_discriptor()\n",
    "recData = lidar.receive_data(discriptor)\n",
    "print(scanData)\n",
    "print(recData)\n",
    "print(discriptor)\n",
    "    \n",
    "lidar.disconnect()"
   ]
  },
  {
   "cell_type": "code",
   "execution_count": 55,
   "id": "04b1b033",
   "metadata": {},
   "outputs": [
    {
     "ename": "AttributeError",
     "evalue": "'int' object has no attribute 'data_length'",
     "output_type": "error",
     "traceback": [
      "\u001b[0;31m---------------------------------------------------------------------------\u001b[0m",
      "\u001b[0;31mAttributeError\u001b[0m                            Traceback (most recent call last)",
      "\u001b[0;32m<ipython-input-55-07675bee9356>\u001b[0m in \u001b[0;36m<module>\u001b[0;34m\u001b[0m\n\u001b[0;32m----> 1\u001b[0;31m \u001b[0mrecData\u001b[0m \u001b[0;34m=\u001b[0m \u001b[0mlidar\u001b[0m\u001b[0;34m.\u001b[0m\u001b[0mreceive_data\u001b[0m\u001b[0;34m(\u001b[0m\u001b[0;36m1\u001b[0m\u001b[0;34m)\u001b[0m\u001b[0;34m\u001b[0m\u001b[0;34m\u001b[0m\u001b[0m\n\u001b[0m\u001b[1;32m      2\u001b[0m \u001b[0mprint\u001b[0m\u001b[0;34m(\u001b[0m\u001b[0mrecData\u001b[0m\u001b[0;34m)\u001b[0m\u001b[0;34m\u001b[0m\u001b[0;34m\u001b[0m\u001b[0m\n",
      "\u001b[0;32m/usr/local/lib/python3.6/dist-packages/pyrplidar.py\u001b[0m in \u001b[0;36mreceive_data\u001b[0;34m(self, discriptor)\u001b[0m\n\u001b[1;32m     50\u001b[0m             \u001b[0;32mraise\u001b[0m \u001b[0mPyRPlidarConnectionError\u001b[0m\u001b[0;34m(\u001b[0m\u001b[0;34m\"PyRPlidar Error : received data length is mismatched\"\u001b[0m\u001b[0;34m)\u001b[0m\u001b[0;34m\u001b[0m\u001b[0;34m\u001b[0m\u001b[0m\n\u001b[1;32m     51\u001b[0m \u001b[0;34m\u001b[0m\u001b[0m\n\u001b[0;32m---> 52\u001b[0;31m         \u001b[0mdata\u001b[0m \u001b[0;34m=\u001b[0m \u001b[0mself\u001b[0m\u001b[0;34m.\u001b[0m\u001b[0mlidar_serial\u001b[0m\u001b[0;34m.\u001b[0m\u001b[0mreceive_data\u001b[0m\u001b[0;34m(\u001b[0m\u001b[0mdiscriptor\u001b[0m\u001b[0;34m.\u001b[0m\u001b[0mdata_length\u001b[0m\u001b[0;34m)\u001b[0m\u001b[0;34m\u001b[0m\u001b[0;34m\u001b[0m\u001b[0m\n\u001b[0m\u001b[1;32m     53\u001b[0m         \u001b[0;32mif\u001b[0m \u001b[0mlen\u001b[0m\u001b[0;34m(\u001b[0m\u001b[0mdata\u001b[0m\u001b[0;34m)\u001b[0m \u001b[0;34m!=\u001b[0m \u001b[0mdiscriptor\u001b[0m\u001b[0;34m.\u001b[0m\u001b[0mdata_length\u001b[0m\u001b[0;34m:\u001b[0m\u001b[0;34m\u001b[0m\u001b[0;34m\u001b[0m\u001b[0m\n\u001b[1;32m     54\u001b[0m             \u001b[0;32mraise\u001b[0m \u001b[0mPyRPlidarProtocolError\u001b[0m\u001b[0;34m(\u001b[0m\u001b[0;34m)\u001b[0m\u001b[0;34m\u001b[0m\u001b[0;34m\u001b[0m\u001b[0m\n",
      "\u001b[0;31mAttributeError\u001b[0m: 'int' object has no attribute 'data_length'"
     ]
    }
   ],
   "source": [
    "recData = lidar.receive_data(1)\n",
    "print(recData)\n"
   ]
  },
  {
   "cell_type": "code",
   "execution_count": 3,
   "id": "e9db27b5",
   "metadata": {},
   "outputs": [
    {
     "name": "stdout",
     "output_type": "stream",
     "text": [
      "Found existing installation: laspy 2.1.2\n",
      "Uninstalling laspy-2.1.2:\n",
      "  Successfully uninstalled laspy-2.1.2\n",
      "Found existing installation: open3d 0.15.1\n",
      "Uninstalling open3d-0.15.1:\n",
      "  Successfully uninstalled open3d-0.15.1\n",
      "\u001b[33mWARNING: Running pip as the 'root' user can result in broken permissions and conflicting behaviour with the system package manager. It is recommended to use a virtual environment instead: https://pip.pypa.io/warnings/venv\u001b[0m\n"
     ]
    }
   ],
   "source": [
    "!pip3 uninstall -y laspy open3d"
   ]
  },
  {
   "cell_type": "code",
   "execution_count": 18,
   "id": "7b5f6aa3",
   "metadata": {},
   "outputs": [
    {
     "name": "stdout",
     "output_type": "stream",
     "text": [
      "{'model': 24, 'firmware': (1, 29), 'hardware': 7, 'serialnumber': '6A8EEDF9C7E29BCEA7E39EF2FA5D4304'}\n",
      "('Good', 0)\n",
      "<generator object RPLidar.iter_measurments at 0x7fb0d91360>\n",
      "<generator object RPLidar.iter_scans at 0x7fb0d91360>\n"
     ]
    },
    {
     "ename": "RPLidarException",
     "evalue": "Wrong body size",
     "output_type": "error",
     "traceback": [
      "\u001b[0;31m---------------------------------------------------------------------------\u001b[0m",
      "\u001b[0;31mRPLidarException\u001b[0m                          Traceback (most recent call last)",
      "\u001b[0;32m<ipython-input-18-c612d689f194>\u001b[0m in \u001b[0;36m<module>\u001b[0;34m\u001b[0m\n\u001b[1;32m     15\u001b[0m \u001b[0mprint\u001b[0m\u001b[0;34m(\u001b[0m\u001b[0mlidar\u001b[0m\u001b[0;34m.\u001b[0m\u001b[0miter_scans\u001b[0m\u001b[0;34m(\u001b[0m\u001b[0;34m)\u001b[0m\u001b[0;34m)\u001b[0m\u001b[0;34m\u001b[0m\u001b[0;34m\u001b[0m\u001b[0m\n\u001b[1;32m     16\u001b[0m \u001b[0;34m\u001b[0m\u001b[0m\n\u001b[0;32m---> 17\u001b[0;31m \u001b[0;32mfor\u001b[0m \u001b[0mi\u001b[0m\u001b[0;34m,\u001b[0m \u001b[0mscan\u001b[0m \u001b[0;32min\u001b[0m \u001b[0menumerate\u001b[0m\u001b[0;34m(\u001b[0m\u001b[0mlidar\u001b[0m\u001b[0;34m.\u001b[0m\u001b[0miter_scans\u001b[0m\u001b[0;34m(\u001b[0m\u001b[0;34m)\u001b[0m\u001b[0;34m)\u001b[0m\u001b[0;34m:\u001b[0m\u001b[0;34m\u001b[0m\u001b[0;34m\u001b[0m\u001b[0m\n\u001b[0m\u001b[1;32m     18\u001b[0m  \u001b[0mprint\u001b[0m\u001b[0;34m(\u001b[0m\u001b[0;34m'%d: Got %d measurments'\u001b[0m \u001b[0;34m%\u001b[0m \u001b[0;34m(\u001b[0m\u001b[0mi\u001b[0m\u001b[0;34m,\u001b[0m \u001b[0mlen\u001b[0m\u001b[0;34m(\u001b[0m\u001b[0mscan\u001b[0m\u001b[0;34m)\u001b[0m\u001b[0;34m)\u001b[0m\u001b[0;34m)\u001b[0m\u001b[0;34m\u001b[0m\u001b[0;34m\u001b[0m\u001b[0m\n\u001b[1;32m     19\u001b[0m  \u001b[0;32mif\u001b[0m \u001b[0mi\u001b[0m \u001b[0;34m>\u001b[0m \u001b[0;36m10\u001b[0m\u001b[0;34m:\u001b[0m\u001b[0;34m\u001b[0m\u001b[0;34m\u001b[0m\u001b[0m\n",
      "\u001b[0;32m/usr/local/lib/python3.6/dist-packages/rplidar.py\u001b[0m in \u001b[0;36miter_scans\u001b[0;34m(self, max_buf_meas, min_len)\u001b[0m\n\u001b[1;32m    355\u001b[0m         \u001b[0mscan\u001b[0m \u001b[0;34m=\u001b[0m \u001b[0;34m[\u001b[0m\u001b[0;34m]\u001b[0m\u001b[0;34m\u001b[0m\u001b[0;34m\u001b[0m\u001b[0m\n\u001b[1;32m    356\u001b[0m         \u001b[0miterator\u001b[0m \u001b[0;34m=\u001b[0m \u001b[0mself\u001b[0m\u001b[0;34m.\u001b[0m\u001b[0miter_measurments\u001b[0m\u001b[0;34m(\u001b[0m\u001b[0mmax_buf_meas\u001b[0m\u001b[0;34m)\u001b[0m\u001b[0;34m\u001b[0m\u001b[0;34m\u001b[0m\u001b[0m\n\u001b[0;32m--> 357\u001b[0;31m         \u001b[0;32mfor\u001b[0m \u001b[0mnew_scan\u001b[0m\u001b[0;34m,\u001b[0m \u001b[0mquality\u001b[0m\u001b[0;34m,\u001b[0m \u001b[0mangle\u001b[0m\u001b[0;34m,\u001b[0m \u001b[0mdistance\u001b[0m \u001b[0;32min\u001b[0m \u001b[0miterator\u001b[0m\u001b[0;34m:\u001b[0m\u001b[0;34m\u001b[0m\u001b[0;34m\u001b[0m\u001b[0m\n\u001b[0m\u001b[1;32m    358\u001b[0m             \u001b[0;32mif\u001b[0m \u001b[0mnew_scan\u001b[0m\u001b[0;34m:\u001b[0m\u001b[0;34m\u001b[0m\u001b[0;34m\u001b[0m\u001b[0m\n\u001b[1;32m    359\u001b[0m                 \u001b[0;32mif\u001b[0m \u001b[0mlen\u001b[0m\u001b[0;34m(\u001b[0m\u001b[0mscan\u001b[0m\u001b[0;34m)\u001b[0m \u001b[0;34m>\u001b[0m \u001b[0mmin_len\u001b[0m\u001b[0;34m:\u001b[0m\u001b[0;34m\u001b[0m\u001b[0;34m\u001b[0m\u001b[0m\n",
      "\u001b[0;32m/usr/local/lib/python3.6/dist-packages/rplidar.py\u001b[0m in \u001b[0;36miter_measurments\u001b[0;34m(self, max_buf_meas)\u001b[0m\n\u001b[1;32m    321\u001b[0m             \u001b[0;32mraise\u001b[0m \u001b[0mRPLidarException\u001b[0m\u001b[0;34m(\u001b[0m\u001b[0;34m'Wrong response data type'\u001b[0m\u001b[0;34m)\u001b[0m\u001b[0;34m\u001b[0m\u001b[0;34m\u001b[0m\u001b[0m\n\u001b[1;32m    322\u001b[0m         \u001b[0;32mwhile\u001b[0m \u001b[0;32mTrue\u001b[0m\u001b[0;34m:\u001b[0m\u001b[0;34m\u001b[0m\u001b[0;34m\u001b[0m\u001b[0m\n\u001b[0;32m--> 323\u001b[0;31m             \u001b[0mraw\u001b[0m \u001b[0;34m=\u001b[0m \u001b[0mself\u001b[0m\u001b[0;34m.\u001b[0m\u001b[0m_read_response\u001b[0m\u001b[0;34m(\u001b[0m\u001b[0mdsize\u001b[0m\u001b[0;34m)\u001b[0m\u001b[0;34m\u001b[0m\u001b[0;34m\u001b[0m\u001b[0m\n\u001b[0m\u001b[1;32m    324\u001b[0m             \u001b[0mself\u001b[0m\u001b[0;34m.\u001b[0m\u001b[0mlogger\u001b[0m\u001b[0;34m.\u001b[0m\u001b[0mdebug\u001b[0m\u001b[0;34m(\u001b[0m\u001b[0;34m'Recieved scan response: %s'\u001b[0m \u001b[0;34m%\u001b[0m \u001b[0mraw\u001b[0m\u001b[0;34m)\u001b[0m\u001b[0;34m\u001b[0m\u001b[0;34m\u001b[0m\u001b[0m\n\u001b[1;32m    325\u001b[0m             \u001b[0;32mif\u001b[0m \u001b[0mmax_buf_meas\u001b[0m\u001b[0;34m:\u001b[0m\u001b[0;34m\u001b[0m\u001b[0;34m\u001b[0m\u001b[0m\n",
      "\u001b[0;32m/usr/local/lib/python3.6/dist-packages/rplidar.py\u001b[0m in \u001b[0;36m_read_response\u001b[0;34m(self, dsize)\u001b[0m\n\u001b[1;32m    197\u001b[0m         \u001b[0mself\u001b[0m\u001b[0;34m.\u001b[0m\u001b[0mlogger\u001b[0m\u001b[0;34m.\u001b[0m\u001b[0mdebug\u001b[0m\u001b[0;34m(\u001b[0m\u001b[0;34m'Recieved data: %s'\u001b[0m\u001b[0;34m,\u001b[0m \u001b[0mdata\u001b[0m\u001b[0;34m)\u001b[0m\u001b[0;34m\u001b[0m\u001b[0;34m\u001b[0m\u001b[0m\n\u001b[1;32m    198\u001b[0m         \u001b[0;32mif\u001b[0m \u001b[0mlen\u001b[0m\u001b[0;34m(\u001b[0m\u001b[0mdata\u001b[0m\u001b[0;34m)\u001b[0m \u001b[0;34m!=\u001b[0m \u001b[0mdsize\u001b[0m\u001b[0;34m:\u001b[0m\u001b[0;34m\u001b[0m\u001b[0;34m\u001b[0m\u001b[0m\n\u001b[0;32m--> 199\u001b[0;31m             \u001b[0;32mraise\u001b[0m \u001b[0mRPLidarException\u001b[0m\u001b[0;34m(\u001b[0m\u001b[0;34m'Wrong body size'\u001b[0m\u001b[0;34m)\u001b[0m\u001b[0;34m\u001b[0m\u001b[0;34m\u001b[0m\u001b[0m\n\u001b[0m\u001b[1;32m    200\u001b[0m         \u001b[0;32mreturn\u001b[0m \u001b[0mdata\u001b[0m\u001b[0;34m\u001b[0m\u001b[0;34m\u001b[0m\u001b[0m\n\u001b[1;32m    201\u001b[0m \u001b[0;34m\u001b[0m\u001b[0m\n",
      "\u001b[0;31mRPLidarException\u001b[0m: Wrong body size"
     ]
    }
   ],
   "source": [
    "from rplidar import RPLidar\n",
    "lidar = RPLidar('/dev/ttyUSB0')\n",
    "\n",
    "\n",
    "lidar.connect()\n",
    "lidar.clear_input()\n",
    "\n",
    "info = lidar.get_info()\n",
    "print(info)\n",
    "\n",
    "health = lidar.get_health()\n",
    "print(health)\n",
    " \n",
    "print(lidar.iter_measurments())\n",
    "print(lidar.iter_scans())\n",
    "\n",
    "for i, scan in enumerate(lidar.iter_scans()):\n",
    " print('%d: Got %d measurments' % (i, len(scan)))\n",
    " if i > 10:\n",
    "   break\n",
    "\n",
    "lidar.stop()\n",
    "lidar.stop_motor()\n",
    "lidar.disconnect()"
   ]
  },
  {
   "cell_type": "code",
   "execution_count": null,
   "id": "418cf0d8",
   "metadata": {},
   "outputs": [],
   "source": []
  },
  {
   "cell_type": "code",
   "execution_count": null,
   "id": "3c1f48a8",
   "metadata": {},
   "outputs": [],
   "source": []
  }
 ],
 "metadata": {
  "kernelspec": {
   "display_name": "Python 3",
   "language": "python",
   "name": "python3"
  },
  "language_info": {
   "codemirror_mode": {
    "name": "ipython",
    "version": 3
   },
   "file_extension": ".py",
   "mimetype": "text/x-python",
   "name": "python",
   "nbconvert_exporter": "python",
   "pygments_lexer": "ipython3",
   "version": "3.6.9"
  }
 },
 "nbformat": 4,
 "nbformat_minor": 5
}
