{
 "cells": [
  {
   "cell_type": "code",
   "execution_count": null,
   "id": "204dcb61",
   "metadata": {},
   "outputs": [
    {
     "name": "stdout",
     "output_type": "stream",
     "text": [
      "Collecting torch\n",
      "  Using cached torch-1.10.2-cp36-cp36m-manylinux2014_aarch64.whl (53.5 MB)\n",
      "Collecting torchvision\n",
      "  Using cached torchvision-0.11.3-cp36-cp36m-manylinux2014_aarch64.whl (14.7 MB)\n",
      "Collecting opencv-python-headless\n",
      "  Downloading opencv-python-headless-4.7.0.72.tar.gz (91.1 MB)\n",
      "     |################################| 91.1 MB 26 kB/s              \n",
      "\u001b[?25h  Installing build dependencies ... \u001b[?25ldone\n",
      "\u001b[?25h  Getting requirements to build wheel ... \u001b[?25ldone\n",
      "\u001b[?25h  Preparing metadata (pyproject.toml) ... \u001b[?25ldone\n",
      "\u001b[?25hRequirement already satisfied: typing-extensions in /usr/local/lib/python3.6/dist-packages (from torch) (4.1.1)\n",
      "Requirement already satisfied: dataclasses in /usr/local/lib/python3.6/dist-packages (from torch) (0.8)\n",
      "Collecting pillow!=8.3.0,>=5.3.0\n",
      "  Downloading Pillow-8.4.0-cp36-cp36m-manylinux_2_17_aarch64.manylinux2014_aarch64.whl (3.0 MB)\n",
      "     |################################| 3.0 MB 15.7 MB/s            \n",
      "\u001b[?25hRequirement already satisfied: numpy in /usr/lib/python3/dist-packages (from torchvision) (1.13.3)\n",
      "Collecting numpy\n",
      "  Downloading numpy-1.19.5-cp36-cp36m-manylinux2014_aarch64.whl (12.4 MB)\n",
      "     |################################| 12.4 MB 22.7 MB/s            \n",
      "\u001b[?25hBuilding wheels for collected packages: opencv-python-headless\n",
      "  Building wheel for opencv-python-headless (pyproject.toml) ... \u001b[?25l|"
     ]
    }
   ],
   "source": [
    "!pip3 install torch torchvision opencv-python-headless"
   ]
  },
  {
   "cell_type": "code",
   "execution_count": null,
   "id": "68b61a67",
   "metadata": {},
   "outputs": [],
   "source": [
    "import cv2\n",
    "import numpy as np\n",
    "from rplidar import RPLidar\n",
    "import torch\n",
    "import torchvision.transforms as T\n",
    "from torchvision.models import resnet50\n",
    "from IPython.display import clear_output, display\n",
    "import ipywidgets as widgets\n",
    "from IPython.display import HTML\n"
   ]
  },
  {
   "cell_type": "code",
   "execution_count": null,
   "id": "ac83efa1",
   "metadata": {},
   "outputs": [],
   "source": [
    "# Constants\n",
    "MIN_DISTANCE = 1000  # Minimum distance for object avoidance in mm\n",
    "\n",
    "# Initialize RPLidar\n",
    "lidar = RPLidar('/dev/ttyUSB0')  # Update with your RPLidar's port\n",
    "\n",
    "# Initialize webcam\n",
    "cap = cv2.VideoCapture(0)\n",
    "\n",
    "# Load pre-trained object detection model\n",
    "model = resnet50(pretrained=True)\n",
    "model.eval()\n",
    "\n",
    "# Function to get object detection results\n",
    "def detect_objects(image, model):\n",
    "    transform = T.Compose([T.Resize(256), T.CenterCrop(224), T.ToTensor(), T.Normalize([0.485, 0.456, 0.406], [0.229, 0.224, 0.225])])\n",
    "    input_tensor = transform(image).unsqueeze(0)\n",
    "    with torch.no_grad():\n",
    "        output = model(input_tensor)\n",
    "    return output\n",
    "\n",
    "# Function to process LIDAR data for object avoidance\n",
    "def process_lidar_data(lidar_data):\n",
    "    for angle, distance in lidar_data:\n",
    "        if distance < MIN_DISTANCE:\n",
    "            return True  # Object detected within the minimum distance\n",
    "    return False\n",
    "\n",
    "# Function to display LIDAR data as a simple plot\n",
    "def display_lidar_data(lidar_data):\n",
    "    import matplotlib.pyplot as plt\n",
    "\n",
    "    angle = [item[1] for item in lidar_data]\n",
    "    distance = [item[2] for item in lidar_data]\n",
    "\n",
    "    plt.figure(figsize=(8, 8))\n",
    "    plt.scatter(angle, distance)\n",
    "    plt.xlabel('Angle [deg]')\n",
    "    plt.ylabel('Distance [mm]')\n",
    "    plt.title('LIDAR Data')\n",
    "    plt.grid()\n",
    "    plt.show()\n",
    "\n",
    "# Function to show an image in Jupyter Notebook\n",
    "def show_image(image):\n",
    "    _, encoded_image = cv2.imencode('.jpg', image)\n",
    "    display(HTML(data=f'<img src=\"data:image/jpg;base64,{encoded_image.tobytes().decode(\"utf-8\")}\" alt=\"Webcam Image\"/>'))\n"
   ]
  },
  {
   "cell_type": "code",
   "execution_count": null,
   "id": "81bc1a96",
   "metadata": {},
   "outputs": [],
   "source": [
    "try:\n",
    "    while True:\n",
    "        # Read image from webcam\n",
    "        ret, frame = cap.read()\n",
    "        if not ret:\n",
    "            break\n",
    "\n",
    "        # Perform object identification\n",
    "        output = detect_objects(frame, model)\n",
    "        # You may want to process the output further to extract the detected objects and their labels\n",
    "\n",
    "        # Get LIDAR data\n",
    "        lidar_data = [item for item in lidar.iter_scans()]\n",
    "\n",
    "        # Perform object avoidance\n",
    "        if process_lidar_data(lidar_data):\n",
    "            print(\"Obstacle detected! Take necessary action.\")\n",
    "            # Insert your control code here to take necessary action when an obstacle is detected\n",
    "\n",
    "        # Display the webcam frame\n",
    "        clear_output(wait=True)\n",
    "        show_image(frame)\n",
    "\n",
    "        # Display the LIDAR data\n",
    "        display_lidar_data(lidar_data)\n",
    "\n",
    "except KeyboardInterrupt:\n",
    "    print(\"Stopping...\")\n",
    "finally:\n",
    "    cap.release()\n",
    "    lidar.stop()\n",
    "    lidar.disconnect()\n"
   ]
  }
 ],
 "metadata": {
  "kernelspec": {
   "display_name": "Python 3",
   "language": "python",
   "name": "python3"
  },
  "language_info": {
   "codemirror_mode": {
    "name": "ipython",
    "version": 3
   },
   "file_extension": ".py",
   "mimetype": "text/x-python",
   "name": "python",
   "nbconvert_exporter": "python",
   "pygments_lexer": "ipython3",
   "version": "3.6.9"
  }
 },
 "nbformat": 4,
 "nbformat_minor": 5
}
