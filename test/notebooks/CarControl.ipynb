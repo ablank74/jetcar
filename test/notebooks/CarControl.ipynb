{
 "cells": [
  {
   "cell_type": "code",
   "execution_count": 1,
   "id": "b25b48e3",
   "metadata": {},
   "outputs": [
    {
     "name": "stdout",
     "output_type": "stream",
     "text": [
      "Collecting rplidar\n",
      "  Downloading rplidar-0.9.2.tar.gz (5.4 kB)\n",
      "  Preparing metadata (setup.py) ... \u001b[?25ldone\n",
      "\u001b[?25hRequirement already satisfied: pyserial in /usr/local/lib/python3.6/dist-packages (3.5)\n",
      "Building wheels for collected packages: rplidar\n",
      "  Building wheel for rplidar (setup.py) ... \u001b[?25ldone\n",
      "\u001b[?25h  Created wheel for rplidar: filename=rplidar-0.9.2-py3-none-any.whl size=5409 sha256=e3988823984f14b2ebb5f3550bdb93afefa5f4125f2f4d04da7634d26704527b\n",
      "  Stored in directory: /root/.cache/pip/wheels/98/c6/3a/77b0c32cd1a920209ecc36f20af579589fe077015f16b2c899\n",
      "Successfully built rplidar\n",
      "Installing collected packages: rplidar\n",
      "Successfully installed rplidar-0.9.2\n",
      "\u001b[33mWARNING: Running pip as the 'root' user can result in broken permissions and conflicting behaviour with the system package manager. It is recommended to use a virtual environment instead: https://pip.pypa.io/warnings/venv\u001b[0m\n"
     ]
    }
   ],
   "source": [
    "!pip install rplidar pyserial\n",
    "!apt-get install -y python3-smbus\n",
    "!pip install jetson-stats\n",
    "!pip install adafruit-circuitpython-motorkit\n",
    "!python3 setup.py install\n"
   ]
  },
  {
   "cell_type": "code",
   "execution_count": 2,
   "id": "a1b4413d",
   "metadata": {},
   "outputs": [
    {
     "ename": "ModuleNotFoundError",
     "evalue": "No module named 'jetracer'",
     "output_type": "error",
     "traceback": [
      "\u001b[0;31m---------------------------------------------------------------------------\u001b[0m",
      "\u001b[0;31mModuleNotFoundError\u001b[0m                       Traceback (most recent call last)",
      "\u001b[0;32m<ipython-input-2-4e41f504d41a>\u001b[0m in \u001b[0;36m<module>\u001b[0;34m\u001b[0m\n\u001b[1;32m      2\u001b[0m \u001b[0;32mimport\u001b[0m \u001b[0mnumpy\u001b[0m \u001b[0;32mas\u001b[0m \u001b[0mnp\u001b[0m\u001b[0;34m\u001b[0m\u001b[0;34m\u001b[0m\u001b[0m\n\u001b[1;32m      3\u001b[0m \u001b[0;32mfrom\u001b[0m \u001b[0mrplidar\u001b[0m \u001b[0;32mimport\u001b[0m \u001b[0mRPLidar\u001b[0m\u001b[0;34m\u001b[0m\u001b[0;34m\u001b[0m\u001b[0m\n\u001b[0;32m----> 4\u001b[0;31m \u001b[0;32mfrom\u001b[0m \u001b[0mjetracer\u001b[0m\u001b[0;34m.\u001b[0m\u001b[0mnvidia_racecar\u001b[0m \u001b[0;32mimport\u001b[0m \u001b[0mNvidiaRacecar\u001b[0m\u001b[0;34m\u001b[0m\u001b[0;34m\u001b[0m\u001b[0m\n\u001b[0m\u001b[1;32m      5\u001b[0m \u001b[0;34m\u001b[0m\u001b[0m\n\u001b[1;32m      6\u001b[0m \u001b[0;31m# Parameters\u001b[0m\u001b[0;34m\u001b[0m\u001b[0;34m\u001b[0m\u001b[0;34m\u001b[0m\u001b[0m\n",
      "\u001b[0;31mModuleNotFoundError\u001b[0m: No module named 'jetracer'"
     ]
    }
   ],
   "source": [
    "import time\n",
    "import numpy as np\n",
    "from rplidar import RPLidar\n",
    "from jetracer.nvidia_racecar import NvidiaRacecar\n",
    "\n",
    "# Parameters\n",
    "MIN_DISTANCE = 1000  # Minimum distance for obstacle detection in millimeters\n",
    "ANGULAR_RANGE = 30  # Angular range for obstacle detection in degrees\n",
    "\n",
    "# Set up the RPLidar\n",
    "lidar = RPLidar('/dev/ttyUSB0')\n",
    "lidar.start_motor()\n",
    "\n",
    "# Set up the JetRacer\n",
    "car = NvidiaRacecar()\n",
    "\n",
    "def detect_obstacle(scan):\n",
    "    for _, angle, distance in scan:\n",
    "        if distance < MIN_DISTANCE and 90 - ANGULAR_RANGE / 2 < angle < 90 + ANGULAR_RANGE / 2:\n",
    "            return True\n",
    "    return False\n",
    "\n",
    "try:\n",
    "    for scan in lidar.iter_scans():\n",
    "        obstacle = detect_obstacle(scan)\n",
    "\n",
    "        if obstacle:\n",
    "            car.throttle = -0.2  # Reverse\n",
    "            car.steering = 0.5   # Turn right\n",
    "        else:\n",
    "            car.throttle = 0.3  # Forward\n",
    "            car.steering = 0    # Straight\n",
    "\n",
    "        time.sleep(0.1)\n",
    "\n",
    "except KeyboardInterrupt:\n",
    "    pass\n",
    "\n",
    "finally:\n",
    "    car.throttle = 0\n",
    "    car.steering = 0\n",
    "    lidar.stop_motor()\n",
    "    lidar.disconnect()\n"
   ]
  },
  {
   "cell_type": "code",
   "execution_count": null,
   "id": "6c6abfb8",
   "metadata": {},
   "outputs": [],
   "source": []
  }
 ],
 "metadata": {
  "kernelspec": {
   "display_name": "Python 3",
   "language": "python",
   "name": "python3"
  },
  "language_info": {
   "codemirror_mode": {
    "name": "ipython",
    "version": 3
   },
   "file_extension": ".py",
   "mimetype": "text/x-python",
   "name": "python",
   "nbconvert_exporter": "python",
   "pygments_lexer": "ipython3",
   "version": "3.6.9"
  }
 },
 "nbformat": 4,
 "nbformat_minor": 5
}
